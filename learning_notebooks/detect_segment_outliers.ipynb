{
 "cells": [
  {
   "cell_type": "markdown",
   "metadata": {
    "colab_type": "text",
    "id": "Z9vjDFbA3Ibq"
   },
   "source": [
    "## Imports"
   ]
  },
  {
   "cell_type": "code",
   "execution_count": 1,
   "metadata": {
    "colab": {},
    "colab_type": "code",
    "id": "R_9ISvEv3Ib9"
   },
   "outputs": [],
   "source": [
    "import numpy as np\n",
    "import matplotlib.pyplot as plt\n",
    "import folium\n",
    "from folium import FeatureGroup, LayerControl, Map, Marker\n",
    "import pandas as pd\n",
    "import random\n",
    "from scipy import stats\n",
    "%matplotlib inline"
   ]
  },
  {
   "cell_type": "markdown",
   "metadata": {
    "colab_type": "text",
    "id": "-n_qVnRl3IcG"
   },
   "source": [
    "## Consts"
   ]
  },
  {
   "cell_type": "code",
   "execution_count": 2,
   "metadata": {
    "colab": {},
    "colab_type": "code",
    "id": "wJzVXQvH3IcI"
   },
   "outputs": [],
   "source": [
    "PROVIDER_AND_ID = \"provider_and_id\"\n",
    "YEAR = \"accident_year\"\n",
    "LAT = \"latitude\"\n",
    "LONG = \"longitude\"\n",
    "X = \"x\"\n",
    "Y = \"y\"\n",
    "SEVERITY = \"injury_severity_hebrew\"\n",
    "ROAD_SEGMENT_NAME = 'road_segment_name'\n",
    "ROAD_SEGMENT = 'road_segment_id'\n",
    "ROAD_SEGMENT_LENGTH = 'road_segment_length_km'\n",
    "SEVERITY_DEAD = 'הרוג'\n",
    "SEVERITY_HARD = 'פצוע קשה'\n",
    "ID = 'accident_id'\n",
    "PROVIDER_CODE = 'provider_code'\n",
    "KM_LOCATION = 'km'\n",
    "IS_OUTLIER = 'is_outlier'\n",
    "\n",
    "RELEVANT_KEYS_ANALYSIS = [PROVIDER_AND_ID, PROVIDER_CODE, ID, YEAR, ROAD_SEGMENT_NAME, ROAD_SEGMENT, ROAD_SEGMENT_LENGTH, KM_LOCATION,\n",
    "                          LAT, LONG, X, Y, SEVERITY]\n",
    "\n",
    "DEFAULT_ZOOM = 9\n",
    "FROM_YEAR = 2014\n",
    "KM_FROM_MEDIAN = 'km_from_median'\n",
    "DEFAULT_COORD = (32.079184, 34.824768)"
   ]
  },
  {
   "cell_type": "markdown",
   "metadata": {
    "colab_type": "text",
    "id": "G_wjnm6F3IcQ"
   },
   "source": [
    "## Load data"
   ]
  },
  {
   "cell_type": "code",
   "execution_count": 3,
   "metadata": {
    "colab": {},
    "colab_type": "code",
    "id": "nHb-6nHe3IcU"
   },
   "outputs": [],
   "source": [
    "csv_path = r\"views2020/involved_markers_hebrew.csv\"\n",
    "data = pd.read_csv(csv_path, na_values='')"
   ]
  },
  {
   "cell_type": "code",
   "execution_count": 4,
   "metadata": {},
   "outputs": [
    {
     "data": {
      "text/html": [
       "<div>\n",
       "<style scoped>\n",
       "    .dataframe tbody tr th:only-of-type {\n",
       "        vertical-align: middle;\n",
       "    }\n",
       "\n",
       "    .dataframe tbody tr th {\n",
       "        vertical-align: top;\n",
       "    }\n",
       "\n",
       "    .dataframe thead th {\n",
       "        text-align: right;\n",
       "    }\n",
       "</style>\n",
       "<table border=\"1\" class=\"dataframe\">\n",
       "  <thead>\n",
       "    <tr style=\"text-align: right;\">\n",
       "      <th></th>\n",
       "      <th>accident_id</th>\n",
       "      <th>provider_and_id</th>\n",
       "      <th>provider_code</th>\n",
       "      <th>file_type_police</th>\n",
       "      <th>involved_type</th>\n",
       "      <th>involved_type_hebrew</th>\n",
       "      <th>license_acquiring_date</th>\n",
       "      <th>age_group</th>\n",
       "      <th>age_group_hebrew</th>\n",
       "      <th>sex</th>\n",
       "      <th>...</th>\n",
       "      <th>vehicle_status_hebrew</th>\n",
       "      <th>vehicle_attribution</th>\n",
       "      <th>vehicle_attribution_hebrew</th>\n",
       "      <th>seats</th>\n",
       "      <th>total_weight</th>\n",
       "      <th>total_weight_hebrew</th>\n",
       "      <th>vehicle_vehicle_type</th>\n",
       "      <th>vehicle_vehicle_type_hebrew</th>\n",
       "      <th>vehicle_damage</th>\n",
       "      <th>vehicle_damage_hebrew</th>\n",
       "    </tr>\n",
       "  </thead>\n",
       "  <tbody>\n",
       "    <tr>\n",
       "      <th>0</th>\n",
       "      <td>2008042695</td>\n",
       "      <td>12008042695</td>\n",
       "      <td>1</td>\n",
       "      <td>NaN</td>\n",
       "      <td>3</td>\n",
       "      <td>נפגע</td>\n",
       "      <td>0</td>\n",
       "      <td>15</td>\n",
       "      <td>70-74</td>\n",
       "      <td>2.0</td>\n",
       "      <td>...</td>\n",
       "      <td>NaN</td>\n",
       "      <td>NaN</td>\n",
       "      <td>NaN</td>\n",
       "      <td>NaN</td>\n",
       "      <td>NaN</td>\n",
       "      <td>NaN</td>\n",
       "      <td>NaN</td>\n",
       "      <td>NaN</td>\n",
       "      <td>NaN</td>\n",
       "      <td>NaN</td>\n",
       "    </tr>\n",
       "    <tr>\n",
       "      <th>1</th>\n",
       "      <td>2008077932</td>\n",
       "      <td>12008077932</td>\n",
       "      <td>1</td>\n",
       "      <td>NaN</td>\n",
       "      <td>3</td>\n",
       "      <td>נפגע</td>\n",
       "      <td>0</td>\n",
       "      <td>7</td>\n",
       "      <td>30-34</td>\n",
       "      <td>1.0</td>\n",
       "      <td>...</td>\n",
       "      <td>NaN</td>\n",
       "      <td>NaN</td>\n",
       "      <td>NaN</td>\n",
       "      <td>NaN</td>\n",
       "      <td>NaN</td>\n",
       "      <td>NaN</td>\n",
       "      <td>NaN</td>\n",
       "      <td>NaN</td>\n",
       "      <td>NaN</td>\n",
       "      <td>NaN</td>\n",
       "    </tr>\n",
       "    <tr>\n",
       "      <th>2</th>\n",
       "      <td>2008061813</td>\n",
       "      <td>12008061813</td>\n",
       "      <td>1</td>\n",
       "      <td>NaN</td>\n",
       "      <td>3</td>\n",
       "      <td>נפגע</td>\n",
       "      <td>0</td>\n",
       "      <td>16</td>\n",
       "      <td>75-79</td>\n",
       "      <td>2.0</td>\n",
       "      <td>...</td>\n",
       "      <td>NaN</td>\n",
       "      <td>NaN</td>\n",
       "      <td>NaN</td>\n",
       "      <td>NaN</td>\n",
       "      <td>NaN</td>\n",
       "      <td>NaN</td>\n",
       "      <td>NaN</td>\n",
       "      <td>NaN</td>\n",
       "      <td>NaN</td>\n",
       "      <td>NaN</td>\n",
       "    </tr>\n",
       "    <tr>\n",
       "      <th>3</th>\n",
       "      <td>2008053506</td>\n",
       "      <td>12008053506</td>\n",
       "      <td>1</td>\n",
       "      <td>NaN</td>\n",
       "      <td>3</td>\n",
       "      <td>נפגע</td>\n",
       "      <td>0</td>\n",
       "      <td>2</td>\n",
       "      <td>05-09</td>\n",
       "      <td>1.0</td>\n",
       "      <td>...</td>\n",
       "      <td>NaN</td>\n",
       "      <td>NaN</td>\n",
       "      <td>NaN</td>\n",
       "      <td>NaN</td>\n",
       "      <td>NaN</td>\n",
       "      <td>NaN</td>\n",
       "      <td>NaN</td>\n",
       "      <td>NaN</td>\n",
       "      <td>NaN</td>\n",
       "      <td>NaN</td>\n",
       "    </tr>\n",
       "    <tr>\n",
       "      <th>4</th>\n",
       "      <td>2008009914</td>\n",
       "      <td>12008009914</td>\n",
       "      <td>1</td>\n",
       "      <td>NaN</td>\n",
       "      <td>3</td>\n",
       "      <td>נפגע</td>\n",
       "      <td>0</td>\n",
       "      <td>15</td>\n",
       "      <td>70-74</td>\n",
       "      <td>2.0</td>\n",
       "      <td>...</td>\n",
       "      <td>NaN</td>\n",
       "      <td>NaN</td>\n",
       "      <td>NaN</td>\n",
       "      <td>NaN</td>\n",
       "      <td>NaN</td>\n",
       "      <td>NaN</td>\n",
       "      <td>NaN</td>\n",
       "      <td>NaN</td>\n",
       "      <td>NaN</td>\n",
       "      <td>NaN</td>\n",
       "    </tr>\n",
       "  </tbody>\n",
       "</table>\n",
       "<p>5 rows × 161 columns</p>\n",
       "</div>"
      ],
      "text/plain": [
       "   accident_id  provider_and_id  provider_code  file_type_police  \\\n",
       "0   2008042695      12008042695              1               NaN   \n",
       "1   2008077932      12008077932              1               NaN   \n",
       "2   2008061813      12008061813              1               NaN   \n",
       "3   2008053506      12008053506              1               NaN   \n",
       "4   2008009914      12008009914              1               NaN   \n",
       "\n",
       "   involved_type involved_type_hebrew  license_acquiring_date  age_group  \\\n",
       "0              3                 נפגע                       0         15   \n",
       "1              3                 נפגע                       0          7   \n",
       "2              3                 נפגע                       0         16   \n",
       "3              3                 נפגע                       0          2   \n",
       "4              3                 נפגע                       0         15   \n",
       "\n",
       "  age_group_hebrew  sex  ... vehicle_status_hebrew  vehicle_attribution  \\\n",
       "0            70-74  2.0  ...                   NaN                  NaN   \n",
       "1            30-34  1.0  ...                   NaN                  NaN   \n",
       "2            75-79  2.0  ...                   NaN                  NaN   \n",
       "3            05-09  1.0  ...                   NaN                  NaN   \n",
       "4            70-74  2.0  ...                   NaN                  NaN   \n",
       "\n",
       "  vehicle_attribution_hebrew  seats total_weight  total_weight_hebrew  \\\n",
       "0                        NaN    NaN          NaN                  NaN   \n",
       "1                        NaN    NaN          NaN                  NaN   \n",
       "2                        NaN    NaN          NaN                  NaN   \n",
       "3                        NaN    NaN          NaN                  NaN   \n",
       "4                        NaN    NaN          NaN                  NaN   \n",
       "\n",
       "  vehicle_vehicle_type  vehicle_vehicle_type_hebrew vehicle_damage  \\\n",
       "0                  NaN                          NaN            NaN   \n",
       "1                  NaN                          NaN            NaN   \n",
       "2                  NaN                          NaN            NaN   \n",
       "3                  NaN                          NaN            NaN   \n",
       "4                  NaN                          NaN            NaN   \n",
       "\n",
       "   vehicle_damage_hebrew  \n",
       "0                    NaN  \n",
       "1                    NaN  \n",
       "2                    NaN  \n",
       "3                    NaN  \n",
       "4                    NaN  \n",
       "\n",
       "[5 rows x 161 columns]"
      ]
     },
     "execution_count": 4,
     "metadata": {},
     "output_type": "execute_result"
    }
   ],
   "source": [
    "data.head()"
   ]
  },
  {
   "cell_type": "code",
   "execution_count": 5,
   "metadata": {
    "colab": {},
    "colab_type": "code",
    "id": "mfIXueaO3Icc"
   },
   "outputs": [
    {
     "data": {
      "text/html": [
       "<div>\n",
       "<style scoped>\n",
       "    .dataframe tbody tr th:only-of-type {\n",
       "        vertical-align: middle;\n",
       "    }\n",
       "\n",
       "    .dataframe tbody tr th {\n",
       "        vertical-align: top;\n",
       "    }\n",
       "\n",
       "    .dataframe thead th {\n",
       "        text-align: right;\n",
       "    }\n",
       "</style>\n",
       "<table border=\"1\" class=\"dataframe\">\n",
       "  <thead>\n",
       "    <tr style=\"text-align: right;\">\n",
       "      <th></th>\n",
       "      <th>provider_and_id</th>\n",
       "      <th>provider_code</th>\n",
       "      <th>accident_id</th>\n",
       "      <th>accident_year</th>\n",
       "      <th>road_segment_name</th>\n",
       "      <th>road_segment_id</th>\n",
       "      <th>road_segment_length_km</th>\n",
       "      <th>km</th>\n",
       "      <th>latitude</th>\n",
       "      <th>longitude</th>\n",
       "      <th>x</th>\n",
       "      <th>y</th>\n",
       "      <th>injury_severity_hebrew</th>\n",
       "    </tr>\n",
       "  </thead>\n",
       "  <tbody>\n",
       "    <tr>\n",
       "      <th>726</th>\n",
       "      <td>12015000826</td>\n",
       "      <td>1</td>\n",
       "      <td>2015000826</td>\n",
       "      <td>2015</td>\n",
       "      <td>NaN</td>\n",
       "      <td>NaN</td>\n",
       "      <td>NaN</td>\n",
       "      <td>NaN</td>\n",
       "      <td>32.043049</td>\n",
       "      <td>34.770967</td>\n",
       "      <td>178508.0</td>\n",
       "      <td>661167.0</td>\n",
       "      <td>פצוע קל</td>\n",
       "    </tr>\n",
       "    <tr>\n",
       "      <th>727</th>\n",
       "      <td>12015002360</td>\n",
       "      <td>1</td>\n",
       "      <td>2015002360</td>\n",
       "      <td>2015</td>\n",
       "      <td>צומת מחסיה - צומת נס הרים</td>\n",
       "      <td>38660010.0</td>\n",
       "      <td>9.0</td>\n",
       "      <td>25.0</td>\n",
       "      <td>31.745920</td>\n",
       "      <td>35.014625</td>\n",
       "      <td>201464.0</td>\n",
       "      <td>628153.0</td>\n",
       "      <td>NaN</td>\n",
       "    </tr>\n",
       "    <tr>\n",
       "      <th>728</th>\n",
       "      <td>12015003578</td>\n",
       "      <td>1</td>\n",
       "      <td>2015003578</td>\n",
       "      <td>2015</td>\n",
       "      <td>NaN</td>\n",
       "      <td>NaN</td>\n",
       "      <td>NaN</td>\n",
       "      <td>NaN</td>\n",
       "      <td>32.525085</td>\n",
       "      <td>35.161378</td>\n",
       "      <td>215404.0</td>\n",
       "      <td>714540.0</td>\n",
       "      <td>פצוע קל</td>\n",
       "    </tr>\n",
       "    <tr>\n",
       "      <th>729</th>\n",
       "      <td>12015006896</td>\n",
       "      <td>1</td>\n",
       "      <td>2015006896</td>\n",
       "      <td>2015</td>\n",
       "      <td>כניסה למנהרה - כניסה לדרך האלוף עוזי נרקיס</td>\n",
       "      <td>10090.0</td>\n",
       "      <td>9.0</td>\n",
       "      <td>558.0</td>\n",
       "      <td>31.801289</td>\n",
       "      <td>35.184305</td>\n",
       "      <td>217543.0</td>\n",
       "      <td>634277.0</td>\n",
       "      <td>פצוע קל</td>\n",
       "    </tr>\n",
       "    <tr>\n",
       "      <th>733</th>\n",
       "      <td>12015006964</td>\n",
       "      <td>1</td>\n",
       "      <td>2015006964</td>\n",
       "      <td>2015</td>\n",
       "      <td>NaN</td>\n",
       "      <td>NaN</td>\n",
       "      <td>NaN</td>\n",
       "      <td>NaN</td>\n",
       "      <td>32.320981</td>\n",
       "      <td>34.863568</td>\n",
       "      <td>187352.0</td>\n",
       "      <td>691956.0</td>\n",
       "      <td>NaN</td>\n",
       "    </tr>\n",
       "    <tr>\n",
       "      <th>...</th>\n",
       "      <td>...</td>\n",
       "      <td>...</td>\n",
       "      <td>...</td>\n",
       "      <td>...</td>\n",
       "      <td>...</td>\n",
       "      <td>...</td>\n",
       "      <td>...</td>\n",
       "      <td>...</td>\n",
       "      <td>...</td>\n",
       "      <td>...</td>\n",
       "      <td>...</td>\n",
       "      <td>...</td>\n",
       "      <td>...</td>\n",
       "    </tr>\n",
       "    <tr>\n",
       "      <th>1881289</th>\n",
       "      <td>32020025415</td>\n",
       "      <td>3</td>\n",
       "      <td>2020025415</td>\n",
       "      <td>2020</td>\n",
       "      <td>מחלף גהה - מחלף מורשה</td>\n",
       "      <td>40140.0</td>\n",
       "      <td>3.7</td>\n",
       "      <td>1191.0</td>\n",
       "      <td>32.092494</td>\n",
       "      <td>34.845892</td>\n",
       "      <td>185603.0</td>\n",
       "      <td>666624.0</td>\n",
       "      <td>פצוע קל</td>\n",
       "    </tr>\n",
       "    <tr>\n",
       "      <th>1881292</th>\n",
       "      <td>32020032761</td>\n",
       "      <td>3</td>\n",
       "      <td>2020032761</td>\n",
       "      <td>2020</td>\n",
       "      <td>NaN</td>\n",
       "      <td>NaN</td>\n",
       "      <td>NaN</td>\n",
       "      <td>NaN</td>\n",
       "      <td>32.081712</td>\n",
       "      <td>34.796332</td>\n",
       "      <td>180920.0</td>\n",
       "      <td>665445.0</td>\n",
       "      <td>פצוע קל</td>\n",
       "    </tr>\n",
       "    <tr>\n",
       "      <th>1881293</th>\n",
       "      <td>32020033896</td>\n",
       "      <td>3</td>\n",
       "      <td>2020033896</td>\n",
       "      <td>2020</td>\n",
       "      <td>NaN</td>\n",
       "      <td>NaN</td>\n",
       "      <td>NaN</td>\n",
       "      <td>NaN</td>\n",
       "      <td>32.954099</td>\n",
       "      <td>35.163235</td>\n",
       "      <td>215597.0</td>\n",
       "      <td>762118.0</td>\n",
       "      <td>פצוע קל</td>\n",
       "    </tr>\n",
       "    <tr>\n",
       "      <th>1881299</th>\n",
       "      <td>32020049734</td>\n",
       "      <td>3</td>\n",
       "      <td>2020049734</td>\n",
       "      <td>2020</td>\n",
       "      <td>NaN</td>\n",
       "      <td>NaN</td>\n",
       "      <td>NaN</td>\n",
       "      <td>NaN</td>\n",
       "      <td>32.059339</td>\n",
       "      <td>34.766696</td>\n",
       "      <td>178112.0</td>\n",
       "      <td>662975.0</td>\n",
       "      <td>פצוע קל</td>\n",
       "    </tr>\n",
       "    <tr>\n",
       "      <th>1881301</th>\n",
       "      <td>32020053498</td>\n",
       "      <td>3</td>\n",
       "      <td>2020053498</td>\n",
       "      <td>2020</td>\n",
       "      <td>NaN</td>\n",
       "      <td>NaN</td>\n",
       "      <td>NaN</td>\n",
       "      <td>NaN</td>\n",
       "      <td>32.039059</td>\n",
       "      <td>34.777549</td>\n",
       "      <td>179128.0</td>\n",
       "      <td>660722.0</td>\n",
       "      <td>פצוע קל</td>\n",
       "    </tr>\n",
       "  </tbody>\n",
       "</table>\n",
       "<p>370374 rows × 13 columns</p>\n",
       "</div>"
      ],
      "text/plain": [
       "         provider_and_id  provider_code  accident_id  accident_year  \\\n",
       "726          12015000826              1   2015000826           2015   \n",
       "727          12015002360              1   2015002360           2015   \n",
       "728          12015003578              1   2015003578           2015   \n",
       "729          12015006896              1   2015006896           2015   \n",
       "733          12015006964              1   2015006964           2015   \n",
       "...                  ...            ...          ...            ...   \n",
       "1881289      32020025415              3   2020025415           2020   \n",
       "1881292      32020032761              3   2020032761           2020   \n",
       "1881293      32020033896              3   2020033896           2020   \n",
       "1881299      32020049734              3   2020049734           2020   \n",
       "1881301      32020053498              3   2020053498           2020   \n",
       "\n",
       "                                  road_segment_name  road_segment_id  \\\n",
       "726                                             NaN              NaN   \n",
       "727                       צומת מחסיה - צומת נס הרים       38660010.0   \n",
       "728                                             NaN              NaN   \n",
       "729      כניסה למנהרה - כניסה לדרך האלוף עוזי נרקיס          10090.0   \n",
       "733                                             NaN              NaN   \n",
       "...                                             ...              ...   \n",
       "1881289                       מחלף גהה - מחלף מורשה          40140.0   \n",
       "1881292                                         NaN              NaN   \n",
       "1881293                                         NaN              NaN   \n",
       "1881299                                         NaN              NaN   \n",
       "1881301                                         NaN              NaN   \n",
       "\n",
       "         road_segment_length_km      km   latitude  longitude         x  \\\n",
       "726                         NaN     NaN  32.043049  34.770967  178508.0   \n",
       "727                         9.0    25.0  31.745920  35.014625  201464.0   \n",
       "728                         NaN     NaN  32.525085  35.161378  215404.0   \n",
       "729                         9.0   558.0  31.801289  35.184305  217543.0   \n",
       "733                         NaN     NaN  32.320981  34.863568  187352.0   \n",
       "...                         ...     ...        ...        ...       ...   \n",
       "1881289                     3.7  1191.0  32.092494  34.845892  185603.0   \n",
       "1881292                     NaN     NaN  32.081712  34.796332  180920.0   \n",
       "1881293                     NaN     NaN  32.954099  35.163235  215597.0   \n",
       "1881299                     NaN     NaN  32.059339  34.766696  178112.0   \n",
       "1881301                     NaN     NaN  32.039059  34.777549  179128.0   \n",
       "\n",
       "                y injury_severity_hebrew  \n",
       "726      661167.0                פצוע קל  \n",
       "727      628153.0                    NaN  \n",
       "728      714540.0                פצוע קל  \n",
       "729      634277.0                פצוע קל  \n",
       "733      691956.0                    NaN  \n",
       "...           ...                    ...  \n",
       "1881289  666624.0                פצוע קל  \n",
       "1881292  665445.0                פצוע קל  \n",
       "1881293  762118.0                פצוע קל  \n",
       "1881299  662975.0                פצוע קל  \n",
       "1881301  660722.0                פצוע קל  \n",
       "\n",
       "[370374 rows x 13 columns]"
      ]
     },
     "execution_count": 5,
     "metadata": {},
     "output_type": "execute_result"
    }
   ],
   "source": [
    "# get only relevant data\n",
    "filtered = data[RELEVANT_KEYS_ANALYSIS].drop_duplicates(subset=[PROVIDER_AND_ID]).dropna(subset=[LAT, LONG])\n",
    "# from this year the data was corrected\n",
    "filtered = filtered[filtered[YEAR] >= FROM_YEAR]\n",
    "filtered"
   ]
  },
  {
   "cell_type": "markdown",
   "metadata": {},
   "source": [
    "## Plot funcs"
   ]
  },
  {
   "cell_type": "code",
   "execution_count": 6,
   "metadata": {},
   "outputs": [],
   "source": [
    "def create_map(coord):\n",
    "    \n",
    "    folium_map = folium.Map(location=coord, zoom_start=DEFAULT_ZOOM)\n",
    "    \n",
    "    return folium_map"
   ]
  },
  {
   "cell_type": "code",
   "execution_count": 7,
   "metadata": {},
   "outputs": [],
   "source": [
    "def plot_coord(folium_map, coord, count, color, icon):\n",
    "   \n",
    "    tooltip = 'Click to see accident counts'\n",
    "    folium.Marker(coord, icon=folium.Icon(color=color, icon=icon), \n",
    "                  popup=f'<i>{count}</i>', tooltip=tooltip).add_to(folium_map)"
   ]
  },
  {
   "cell_type": "code",
   "execution_count": 8,
   "metadata": {},
   "outputs": [],
   "source": [
    "def plot_all_coords(coords, folium_map, color='green', icon='ok-sign'):\n",
    "    \"\"\"\n",
    "    Plot all coords according to location and count\n",
    "    \"\"\"\n",
    "\n",
    "    coord_to_count = coords.groupby([LAT, LONG]).size()\n",
    "    \n",
    "    for coord, count in coord_to_count.items():\n",
    "        plot_coord(folium_map, coord, count, color=color, icon=icon)\n",
    "    \n",
    "    return coord_to_count"
   ]
  },
  {
   "cell_type": "code",
   "execution_count": 9,
   "metadata": {},
   "outputs": [],
   "source": [
    "def plot_median_coord(median_coord, coord_to_count, folium_map, color, icon):\n",
    "    \n",
    "    count = coord_to_count[median_coord] if median_coord in coord_to_count else 1\n",
    "    plot_coord(folium_map, median_coord, count, color=color, icon=icon)"
   ]
  },
  {
   "cell_type": "code",
   "execution_count": 10,
   "metadata": {},
   "outputs": [],
   "source": [
    "def plot_all_segment_coords(segment_rows, outlier_rows, median_coord, segment_map_layer, decimals=4):\n",
    "    \"\"\"\n",
    "    Plot all coords in segment, rounded to decimals, according to their location and count\n",
    "    Median is blue, outliers are red, all other coords are green\n",
    "    \n",
    "    Keyword arguments:\n",
    "    segment_rows -- segment rows without outliers\n",
    "    outlier_rows -- outlier segment rows\n",
    "    segment_map_layer -- points are added to this layer\n",
    "    decimals -- round to decimals, very close points are merged \n",
    "                to the same point with a larger count\n",
    "    \"\"\"\n",
    "    \n",
    "    segment_coords = segment_rows[[LAT, LONG]].dropna().round(decimals=decimals)\n",
    "    outlier_coords = outlier_rows[[LAT, LONG]].dropna().round(decimals=decimals)\n",
    "    \n",
    "    coord_to_count = plot_all_coords(segment_coords, segment_map_layer, color='green', icon='ok-sign')\n",
    "    \n",
    "    median_coord = tuple(np.around(median_coord, decimals))\n",
    "    plot_median_coord(median_coord, coord_to_count, segment_map_layer, color='blue', icon='screenshot')\n",
    "    \n",
    "    plot_all_coords(outlier_coords, segment_map_layer, color='red', icon='exclamation-sign')\n"
   ]
  },
  {
   "cell_type": "code",
   "execution_count": 11,
   "metadata": {},
   "outputs": [],
   "source": [
    "def get_segment_rows(data, road_segment_id, max_coords=None):\n",
    "    \n",
    "    segment_rows = data[data[ROAD_SEGMENT]==road_segment_id]\n",
    "    \n",
    "    return segment_rows[:max_coords]"
   ]
  },
  {
   "cell_type": "code",
   "execution_count": 12,
   "metadata": {},
   "outputs": [],
   "source": [
    "def plot_outliers(outlier_segments, max_coords=500):\n",
    "    \n",
    "    outlier_map = create_map(DEFAULT_COORD)\n",
    "    \n",
    "    for road_segment_id, segment_rows in outlier_segments.groupby(ROAD_SEGMENT):\n",
    "        \n",
    "        first_row = segment_rows.iloc[0]\n",
    "        segment_name = first_row[ROAD_SEGMENT_NAME]\n",
    "        segment_length = round(first_row[ROAD_SEGMENT_LENGTH], 1)\n",
    "        road_segment_id = int(road_segment_id)\n",
    "        \n",
    "        outliers = segment_rows[segment_rows[IS_OUTLIER] == True]\n",
    "        not_outliers = segment_rows[segment_rows[IS_OUTLIER] == False]\n",
    "        median_row = segment_rows[segment_rows[IS_OUTLIER] == 'MEDIAN'].iloc[0]\n",
    "        median_coord = (median_row[LAT], median_row[LONG])\n",
    "        \n",
    "        segment_map_layer = FeatureGroup(name=f'{road_segment_id} {segment_length} km {segment_name}', show=False)\n",
    "        plot_all_segment_coords(not_outliers, outliers, median_coord, segment_map_layer)\n",
    "        \n",
    "        segment_map_layer.add_to(outlier_map)\n",
    "        \n",
    "    LayerControl().add_to(outlier_map)\n",
    "    \n",
    "    return outlier_map"
   ]
  },
  {
   "cell_type": "markdown",
   "metadata": {
    "colab_type": "text",
    "id": "cazAmAhj3Ick"
   },
   "source": [
    "## Find outliers by km from median"
   ]
  },
  {
   "cell_type": "code",
   "execution_count": 13,
   "metadata": {},
   "outputs": [],
   "source": [
    "def spherical_distance(lat1, long1, lat2, long2):\n",
    "    \"\"\"\n",
    "    Calculate the spherical distance in km between two coordinates in WGS-84 using Vincenty's formulae\n",
    "    \n",
    "    credit: https://www.johndcook.com/blog/2018/11/24/spheroid-distance/\n",
    "    \"\"\"\n",
    "\n",
    "    lat1, long1, lat2, long2 = np.deg2rad(lat1), np.deg2rad(long1), np.deg2rad(lat2), np.deg2rad(long2)\n",
    "    \n",
    "    phi1 = 0.5*np.pi - lat1\n",
    "    phi2 = 0.5*np.pi - lat2\n",
    "    r = 0.5*(6378137 + 6356752) # mean radius in meters\n",
    "    t = np.sin(phi1)*np.sin(phi2)*np.cos(long1-long2) + np.cos(phi1)*np.cos(phi2)\n",
    "    \n",
    "    # -1<=t<=1 for the arcos func\n",
    "    t = np.minimum(t, 1)\n",
    "    t = np.maximum(t, -1)\n",
    "    \n",
    "    return round(r * np.arccos(t) / 1000, 2)"
   ]
  },
  {
   "cell_type": "code",
   "execution_count": 14,
   "metadata": {},
   "outputs": [],
   "source": [
    "def is_far_from_median(data, row, outliers, segment_length, padding):\n",
    "    \"\"\"\n",
    "    Check if the distance of row from the median_coord is > segment_length + padding*segment_length\n",
    "    The median is computed according to all coords, after removing the outliers and the current coord\n",
    "    \"\"\"\n",
    "    \n",
    "    curr_coord = [row[LAT], row[LONG]]\n",
    "\n",
    "    data_without_outlier = data[~data[PROVIDER_AND_ID].isin(outliers) & data[PROVIDER_AND_ID] != row[PROVIDER_AND_ID]]\n",
    "\n",
    "    median_coord = np.median(data_without_outlier[[LAT, LONG]], axis=0)\n",
    "\n",
    "    dist = spherical_distance(*curr_coord, *median_coord)\n",
    "\n",
    "    return dist > segment_length + padding*segment_length"
   ]
  },
  {
   "cell_type": "code",
   "execution_count": 15,
   "metadata": {},
   "outputs": [],
   "source": [
    "def get_segment_outliers_far_from_median(data, segment_length, padding):\n",
    "    \n",
    "    outliers = []\n",
    "    \n",
    "    for i, row in data.iterrows():\n",
    "        if is_far_from_median(data, row, outliers, segment_length, padding):\n",
    "            outliers.append(row[PROVIDER_AND_ID])\n",
    "            \n",
    "    return outliers"
   ]
  },
  {
   "cell_type": "code",
   "execution_count": 16,
   "metadata": {},
   "outputs": [],
   "source": [
    "def km_from_median_col(segment_rows, median_coord):\n",
    "    \n",
    "     return segment_rows.apply(lambda row: spherical_distance(row[LAT], row[LONG], *median_coord), \n",
    "                                                                axis=1)"
   ]
  },
  {
   "cell_type": "code",
   "execution_count": 17,
   "metadata": {},
   "outputs": [],
   "source": [
    "def median_row(seg, segment_length, segment_name, median_coord):\n",
    "    return {ROAD_SEGMENT: seg, ROAD_SEGMENT_LENGTH: segment_length, ROAD_SEGMENT_NAME: segment_name, \n",
    "            LAT: median_coord[0], LONG: median_coord[1], IS_OUTLIER: 'MEDIAN', KM_FROM_MEDIAN: 0}"
   ]
  },
  {
   "cell_type": "code",
   "execution_count": 18,
   "metadata": {},
   "outputs": [],
   "source": [
    "def updated_segment_rows(seg, segment_length, segment_name, segment_rows, outliers):\n",
    "    \n",
    "    segment_rows = segment_rows.copy(deep=True)\n",
    "    \n",
    "    segment_rows[IS_OUTLIER] = np.where(segment_rows[PROVIDER_AND_ID].isin(outliers), True, False)\n",
    "\n",
    "    not_outlier_rows = segment_rows[~segment_rows[IS_OUTLIER]]\n",
    "    median_coord = np.median(not_outlier_rows[[LAT, LONG]], axis=0)\n",
    "    \n",
    "    segment_rows[KM_FROM_MEDIAN] = km_from_median_col(segment_rows, median_coord)\n",
    "    \n",
    "    segment_rows = segment_rows.append(median_row(seg, segment_length, segment_name, median_coord), ignore_index=True);\n",
    "    \n",
    "    return segment_rows"
   ]
  },
  {
   "cell_type": "code",
   "execution_count": 19,
   "metadata": {},
   "outputs": [],
   "source": [
    "def get_outliers_by_km(data, min_sample_size=2, padding=0.25):\n",
    "    \n",
    "    res = []\n",
    "    \n",
    "    for seg, segment_rows in data.groupby(ROAD_SEGMENT):\n",
    "        \n",
    "        if len(segment_rows) <= min_sample_size:\n",
    "            continue\n",
    "            \n",
    "        segment_length = segment_rows.iloc[0][ROAD_SEGMENT_LENGTH]\n",
    "        segment_name = segment_rows.iloc[0][ROAD_SEGMENT_NAME]\n",
    "        outliers = get_segment_outliers_far_from_median(segment_rows, segment_length, padding)\n",
    "        \n",
    "        if len(outliers) > 0:\n",
    "            \n",
    "            segment_rows = updated_segment_rows(seg, segment_length, segment_name, segment_rows, outliers)\n",
    "            \n",
    "            res.append(segment_rows)\n",
    "            \n",
    "    return pd.concat(res) if res else pd.DataFrame()"
   ]
  },
  {
   "cell_type": "code",
   "execution_count": 20,
   "metadata": {},
   "outputs": [
    {
     "ename": "NameError",
     "evalue": "name 'outlier_segments' is not defined",
     "output_type": "error",
     "traceback": [
      "\u001b[1;31m---------------------------------------------------------------------------\u001b[0m",
      "\u001b[1;31mNameError\u001b[0m                                 Traceback (most recent call last)",
      "\u001b[1;32m<ipython-input-20-775a1bd4d76d>\u001b[0m in \u001b[0;36m<module>\u001b[1;34m\u001b[0m\n\u001b[1;32m----> 1\u001b[1;33m \u001b[0mplot_outliers\u001b[0m\u001b[1;33m(\u001b[0m\u001b[0moutlier_segments\u001b[0m\u001b[1;33m)\u001b[0m\u001b[1;33m\u001b[0m\u001b[1;33m\u001b[0m\u001b[0m\n\u001b[0m",
      "\u001b[1;31mNameError\u001b[0m: name 'outlier_segments' is not defined"
     ]
    }
   ],
   "source": [
    "plot_outliers(outlier_segments)"
   ]
  },
  {
   "cell_type": "markdown",
   "metadata": {},
   "source": [
    "### Old method:"
   ]
  },
  {
   "cell_type": "code",
   "execution_count": null,
   "metadata": {
    "colab": {},
    "colab_type": "code",
    "id": "RigPG_Jq3Icm"
   },
   "outputs": [],
   "source": [
    "def calc_zscores(data, zscore_thresh, min_sample_size):\n",
    "\n",
    "    coords = data[[X, Y]].dropna()\n",
    "    \n",
    "    # check if sample size is big enough for the statistic calculation\n",
    "    if len(coords.drop_duplicates()) <= min_sample_size:\n",
    "        return []\n",
    "    \n",
    "    # calculate zscores for each column\n",
    "    zscores = stats.zscore(coords, axis = 0)\n",
    "    zscores = np.nan_to_num(zscores)\n",
    "    zscores = np.abs(zscores)\n",
    "    # get indices to outliers\n",
    "    outliers = np.argwhere(zscores > zscore_thresh)\n",
    "    outlier_rows = np.unique(outliers[:, 0])\n",
    "    outlier_rows = data.iloc[outlier_rows]\n",
    "    \n",
    "    return outlier_rows\n",
    "\n",
    "def calc_outliers_for_segment_zscores(data, zscore_thresh, min_sample_size, check_by_km):\n",
    "    \n",
    "    outlier_rows = calc_zscores(data, zscore_thresh, min_sample_size)\n",
    "    \n",
    "    if len(outlier_rows) > 0:\n",
    "        \n",
    "        if check_by_km:\n",
    "            median_coord = np.median(data[[LAT, LONG]].dropna(), axis=0)\n",
    "            segment_length = outlier_rows.iloc[0][ROAD_SEGMENT_LENGTH]\n",
    "\n",
    "            outlier_rows = outlier_rows[spherical_distance(outlier_rows[LAT], outlier_rows[LONG], *median_coord) \n",
    "                                        > segment_length]\n",
    "        \n",
    "        return outlier_rows\n",
    "    \n",
    "    return []\n",
    "\n",
    "def get_outliers_by_z_scores(data, zscore_thresh, min_sample_size=0, check_by_km=True):\n",
    "    res = []\n",
    "    for seg, rows in data.groupby(ROAD_SEGMENT):\n",
    "        outliers = calc_outliers_for_segment_zscores(rows, zscore_thresh, min_sample_size, check_by_km)\n",
    "        if len(outliers) > 0:\n",
    "            res.append(outliers)\n",
    "    return pd.concat(res)"
   ]
  },
  {
   "cell_type": "markdown",
   "metadata": {
    "colab_type": "text",
    "id": "KcCDX8X63Ic4"
   },
   "source": [
    "## Pick threshold and minimum sample size"
   ]
  },
  {
   "cell_type": "code",
   "execution_count": null,
   "metadata": {
    "colab": {},
    "colab_type": "code",
    "id": "6qDKrjOr3Ic5"
   },
   "outputs": [],
   "source": [
    "ZSCORE_THRESH = 5\n",
    "MIN_SAMPLE_SIZE = 10"
   ]
  },
  {
   "cell_type": "markdown",
   "metadata": {},
   "source": [
    "## Test"
   ]
  },
  {
   "cell_type": "code",
   "execution_count": null,
   "metadata": {
    "scrolled": true
   },
   "outputs": [],
   "source": [
    "segmend_id = 10010\n",
    "segment_rows = filtered[filtered[ROAD_SEGMENT]==segmend_id]\n",
    "outliers_test = get_outliers_by_km(segment_rows, MIN_SAMPLE_SIZE)\n",
    "\n",
    "print(outliers_test.groupby(IS_OUTLIER).size())\n",
    "outliers_test.head()"
   ]
  },
  {
   "cell_type": "code",
   "execution_count": null,
   "metadata": {},
   "outputs": [],
   "source": [
    "plot_outliers(outliers_test)"
   ]
  },
  {
   "cell_type": "code",
   "execution_count": null,
   "metadata": {},
   "outputs": [],
   "source": [
    "segmend_id = 650020\n",
    "segment_rows = filtered[filtered[ROAD_SEGMENT]==segmend_id]\n",
    "\n",
    "outliers_test = get_outliers_by_km(segment_rows, MIN_SAMPLE_SIZE)\n",
    "\n",
    "plot_outliers(outliers_test)"
   ]
  },
  {
   "cell_type": "markdown",
   "metadata": {},
   "source": [
    "The algorithm can't detect outliers that are very close to the start or the end of the segment.    \n",
    "Note that there is one coord at צומת חדרה מזרח   \n",
    "Should it be in this segment or the next segment? "
   ]
  },
  {
   "cell_type": "markdown",
   "metadata": {},
   "source": [
    "### Test segment padding"
   ]
  },
  {
   "cell_type": "code",
   "execution_count": null,
   "metadata": {},
   "outputs": [],
   "source": [
    "segmend_id = 650030\n",
    "segment_rows = filtered[filtered[ROAD_SEGMENT]==segmend_id]"
   ]
  },
  {
   "cell_type": "code",
   "execution_count": null,
   "metadata": {},
   "outputs": [],
   "source": [
    "outliers_test = get_outliers_by_km(segment_rows, MIN_SAMPLE_SIZE, padding=0)\n",
    "outliers_test.groupby(IS_OUTLIER).size()"
   ]
  },
  {
   "cell_type": "code",
   "execution_count": null,
   "metadata": {},
   "outputs": [],
   "source": [
    "outliers_test[outliers_test[IS_OUTLIER]==True].head()"
   ]
  },
  {
   "cell_type": "markdown",
   "metadata": {},
   "source": [
    "road_segment_length_km should be 1.9 according to google maps"
   ]
  },
  {
   "cell_type": "code",
   "execution_count": null,
   "metadata": {},
   "outputs": [],
   "source": [
    "plot_outliers(outliers_test)"
   ]
  },
  {
   "cell_type": "code",
   "execution_count": null,
   "metadata": {},
   "outputs": [],
   "source": [
    "outliers_test = get_outliers_by_km(segment_rows, MIN_SAMPLE_SIZE, padding=0.2)\n",
    "if not outliers_test.empty:\n",
    "    print(outliers_test.groupby(IS_OUTLIER).size())"
   ]
  },
  {
   "cell_type": "code",
   "execution_count": null,
   "metadata": {},
   "outputs": [],
   "source": [
    "outliers_test = get_outliers_by_km(segment_rows, MIN_SAMPLE_SIZE, padding=0.25)\n",
    "if not outliers_test.empty:\n",
    "    print(outliers_test.groupby(IS_OUTLIER).size())"
   ]
  },
  {
   "cell_type": "code",
   "execution_count": null,
   "metadata": {},
   "outputs": [],
   "source": [
    "segmend_id = 440010\n",
    "segment_rows = filtered[filtered[ROAD_SEGMENT]==segmend_id]\n",
    "outliers_test = get_outliers_by_km(segment_rows, MIN_SAMPLE_SIZE, padding=0.25)\n",
    "\n",
    "outliers_test"
   ]
  },
  {
   "cell_type": "code",
   "execution_count": null,
   "metadata": {},
   "outputs": [],
   "source": [
    "plot_outliers(outliers_test)"
   ]
  },
  {
   "cell_type": "markdown",
   "metadata": {},
   "source": [
    "## Calculate all outliers"
   ]
  },
  {
   "cell_type": "code",
   "execution_count": null,
   "metadata": {},
   "outputs": [],
   "source": [
    "all_segment_outliers = get_outliers_by_km(filtered, MIN_SAMPLE_SIZE)\n",
    "len(all_segment_outliers)"
   ]
  },
  {
   "cell_type": "markdown",
   "metadata": {},
   "source": [
    "### Segments with outliers"
   ]
  },
  {
   "cell_type": "code",
   "execution_count": null,
   "metadata": {},
   "outputs": [],
   "source": [
    "len(all_segment_outliers[ROAD_SEGMENT].unique())"
   ]
  },
  {
   "cell_type": "code",
   "execution_count": null,
   "metadata": {
    "scrolled": true
   },
   "outputs": [],
   "source": [
    "all_segment_outliers.head(10)"
   ]
  },
  {
   "cell_type": "code",
   "execution_count": null,
   "metadata": {},
   "outputs": [],
   "source": [
    "all_segment_outliers.groupby(PROVIDER_CODE).size()"
   ]
  },
  {
   "cell_type": "markdown",
   "metadata": {},
   "source": [
    "## Unreliable segments\n",
    "**Most of the coords are wrong, therefore it is not possible to find outliers - the median is in the wrong coord**"
   ]
  },
  {
   "cell_type": "markdown",
   "metadata": {},
   "source": [
    "\n",
    "צומת מעבר רפיח - צומת חבל עזה 40006\n",
    "\n",
    "70040 מחלף בני דרום - צומת בית רבן\n",
    "\n",
    "70050 צומת בית רבן - מחלף גדרה\n",
    "\n",
    "4120010 צומת ביל\"ו - כניסה לרחובות דרך הפרדסים\n",
    "\n",
    "6520003 צומת שפיה - כניסה לזכרון יעקב (ישן)\n",
    "\n",
    "440030 צומת גזר - מחלף רמלוד\n",
    "\n",
    "600005 יישוב באר שבע (לערד) - צומת חטיבת הנגב\n",
    "\n",
    "4120010 צומת ביל\"ו - כניסה לרחובות דרך הפרדסים\n",
    "\n",
    "4120020 מפגש עם מסילת ברזל - צומת נס ציונה"
   ]
  },
  {
   "cell_type": "markdown",
   "metadata": {},
   "source": [
    "**Wrong segment length**"
   ]
  },
  {
   "cell_type": "markdown",
   "metadata": {},
   "source": [
    "Should be 4.5 km, segment_length=0.8   \n",
    "550030 צומת כפר סבא (מזרח) - צומת לאלפי מנשה\n",
    "\n",
    "Should be 1.9 km, segment_length=1.2   \n",
    "צומת חדרה (מזרח) - צומת אלון (שמורת אלון) 650030  \t"
   ]
  },
  {
   "cell_type": "code",
   "execution_count": null,
   "metadata": {},
   "outputs": [],
   "source": [
    "unreliable_segment_ids = [40006, 70040, 70050, 4120010, 6520003, 440030, 600005, 4120010, 4120020]\n",
    "\n",
    "segment_rows = filtered[filtered[ROAD_SEGMENT].isin(unreliable_segment_ids)]\n",
    "unreliable_segments_outliers = get_outliers_by_km(segment_rows, MIN_SAMPLE_SIZE)"
   ]
  },
  {
   "cell_type": "code",
   "execution_count": null,
   "metadata": {},
   "outputs": [],
   "source": [
    "outlier_map_unreliable_segments = plot_outliers(unreliable_segments_outliers)\n",
    "\n",
    "outlier_map_unreliable_segments"
   ]
  },
  {
   "cell_type": "code",
   "execution_count": null,
   "metadata": {},
   "outputs": [],
   "source": [
    "outlier_map = plot_outliers(all_segment_outliers)\n",
    "\n",
    "outlier_map"
   ]
  },
  {
   "cell_type": "markdown",
   "metadata": {},
   "source": [
    "### Severe outliers"
   ]
  },
  {
   "cell_type": "code",
   "execution_count": null,
   "metadata": {},
   "outputs": [],
   "source": [
    "severe_outliers = all_segment_outliers.loc[(all_segment_outliers[SEVERITY] == SEVERITY_HARD) | \n",
    "                                           (all_segment_outliers[SEVERITY] == SEVERITY_DEAD)]\n",
    "outlier_rows = severe_outliers[severe_outliers[IS_OUTLIER] == True]\n",
    "print(len(outlier_rows))\n",
    "outlier_rows"
   ]
  },
  {
   "cell_type": "code",
   "execution_count": null,
   "metadata": {},
   "outputs": [],
   "source": [
    "plot_outliers(all_segment_outliers[all_segment_outliers[ROAD_SEGMENT].isin(outlier_rows[ROAD_SEGMENT])])"
   ]
  },
  {
   "cell_type": "markdown",
   "metadata": {},
   "source": [
    "### Old method - Z scores"
   ]
  },
  {
   "cell_type": "code",
   "execution_count": null,
   "metadata": {},
   "outputs": [],
   "source": [
    "outliers_zscore = get_outliers_by_z_scores(filtered, ZSCORE_THRESH, MIN_SAMPLE_SIZE, check_by_km=False)\n",
    "len(outliers_zscore)"
   ]
  },
  {
   "cell_type": "markdown",
   "metadata": {},
   "source": [
    "After removing false positives by checking distance from median:"
   ]
  },
  {
   "cell_type": "code",
   "execution_count": null,
   "metadata": {
    "colab": {},
    "colab_type": "code",
    "id": "L0nL3Xco3Ic_"
   },
   "outputs": [],
   "source": [
    "outliers_zscore = get_outliers_by_z_scores(filtered, ZSCORE_THRESH, MIN_SAMPLE_SIZE)\n",
    "len(outliers_zscore)"
   ]
  },
  {
   "cell_type": "code",
   "execution_count": null,
   "metadata": {},
   "outputs": [],
   "source": [
    "severe_outliers_zscore = outliers_zscore.loc[(outliers_zscore[SEVERITY] == SEVERITY_HARD) | (outliers_zscore[SEVERITY] == SEVERITY_DEAD)]\n",
    "severe_outliers_zscore"
   ]
  },
  {
   "cell_type": "markdown",
   "metadata": {},
   "source": [
    "By using z-scores, only 44 outliers are detected (versus 534)"
   ]
  },
  {
   "cell_type": "markdown",
   "metadata": {
    "colab_type": "text",
    "id": "TlatXn2C3Ic9"
   },
   "source": [
    "## Save output"
   ]
  },
  {
   "cell_type": "code",
   "execution_count": null,
   "metadata": {},
   "outputs": [],
   "source": [
    "len(filtered), len(all_segment_outliers[all_segment_outliers[IS_OUTLIER]==True])"
   ]
  },
  {
   "cell_type": "code",
   "execution_count": null,
   "metadata": {},
   "outputs": [],
   "source": [
    "print(len(all_segment_outliers))\n",
    "\n",
    "all_segment_outliers['unreliable_segment'] = np.where(all_segment_outliers[ROAD_SEGMENT].isin(unreliable_segment_ids), True, False)\n",
    "all_segment_outliers.groupby('unreliable_segment').size()"
   ]
  },
  {
   "cell_type": "code",
   "execution_count": null,
   "metadata": {},
   "outputs": [],
   "source": [
    "\n",
    "\n",
    "all_segment_outliers.to_csv(\"outliers.csv\", header=True, index=False, encoding='utf-8')"
   ]
  },
  {
   "cell_type": "code",
   "execution_count": null,
   "metadata": {},
   "outputs": [],
   "source": [
    "outlier_map.save('outliers.html')"
   ]
  }
 ],
 "metadata": {
  "colab": {
   "name": "filter_accident_outliers.ipynb",
   "provenance": []
  },
  "kernelspec": {
   "display_name": "Python 3",
   "language": "python",
   "name": "python3"
  },
  "language_info": {
   "codemirror_mode": {
    "name": "ipython",
    "version": 3
   },
   "file_extension": ".py",
   "mimetype": "text/x-python",
   "name": "python",
   "nbconvert_exporter": "python",
   "pygments_lexer": "ipython3",
   "version": "3.7.6"
  }
 },
 "nbformat": 4,
 "nbformat_minor": 1
}
